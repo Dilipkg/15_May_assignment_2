{
 "cells": [
  {
   "cell_type": "raw",
   "id": "4e346e7a-7d10-4582-8f7e-48917b6a1d9a",
   "metadata": {},
   "source": [
    " Q1. comment code in  python \"#\" symbol and extend to end of the line \n",
    "Inline Comment: Used for a single-line comment, marked by a start comment token till the end of the line.\n",
    "Block Comment: Used for a multi-line comment, marked by a pair of start-end comment tokens."
   ]
  },
  {
   "cell_type": "markdown",
   "id": "fdd1f33e-ceaf-4309-888c-0ffc336ddb7f",
   "metadata": {},
   "source": [
    "Q2. A variable is a string of carecters and numbers associated with a piece of information. the assign value in operater denoted by \"=\" symbol."
   ]
  },
  {
   "cell_type": "raw",
   "id": "81c58c88-9ea2-4878-9fd5-7e74df473546",
   "metadata": {},
   "source": [
    "Q3. if you want to change one data type to another data type then you assign new variable  or same variable and then print.\n",
    "e.g. d=[34,5,6]\n",
    "     s=str(d)\n",
    "     print(s)"
   ]
  },
  {
   "cell_type": "raw",
   "id": "d8c06090-9556-4e4c-b864-5ea4ccac1d01",
   "metadata": {},
   "source": [
    "Q4. open commend promt and then type the word python followed by the path to your script file like : python first_script.py \n",
    "name=\"dilip\"\n",
    "print(\"my name is\" + name)"
   ]
  },
  {
   "cell_type": "code",
   "execution_count": 12,
   "id": "2d00bb19-97b5-4e55-8fd8-e5c5d8fd95d2",
   "metadata": {},
   "outputs": [
    {
     "data": {
      "text/plain": [
       "[2, 3]"
      ]
     },
     "execution_count": 12,
     "metadata": {},
     "output_type": "execute_result"
    }
   ],
   "source": [
    "#Q5.\n",
    "my_list = [1, 2, 3, 4, 5]\n",
    "my_list[1:3]"
   ]
  },
  {
   "cell_type": "raw",
   "id": "49e3a69b-1a21-4385-81f5-e2d44eacb6a5",
   "metadata": {},
   "source": [
    "Q6.\n",
    "complex number is created from two real number and complex number represented by (x+yj)\n",
    "x is called real number y is called imagiray number.\n",
    "Python complex number can be created either using direct assignment statement or by using complex () function"
   ]
  },
  {
   "cell_type": "raw",
   "id": "768483d8-3425-4bda-aa87-60954d1c7db7",
   "metadata": {},
   "source": [
    "Q7.\n",
    "it also create a variable and assign value same line \n",
    "e.g. age=25"
   ]
  },
  {
   "cell_type": "code",
   "execution_count": 14,
   "id": "47c74967-c922-4dea-966b-0016d88c29d3",
   "metadata": {},
   "outputs": [
    {
     "name": "stdout",
     "output_type": "stream",
     "text": [
      "<class 'float'>\n"
     ]
    }
   ],
   "source": [
    "#Q8.\n",
    "d = 9.99\n",
    "print(type(d))\n"
   ]
  },
  {
   "cell_type": "code",
   "execution_count": 17,
   "id": "76de3dcf-d3a6-4eeb-bb4a-6c999be97253",
   "metadata": {},
   "outputs": [
    {
     "name": "stdout",
     "output_type": "stream",
     "text": [
      "dilip kumar gupta\n"
     ]
    },
    {
     "data": {
      "text/plain": [
       "str"
      ]
     },
     "execution_count": 17,
     "metadata": {},
     "output_type": "execute_result"
    }
   ],
   "source": [
    "#Q9\n",
    "name=\"dilip kumar gupta\"\n",
    "print(name)\n",
    "type(name)"
   ]
  },
  {
   "cell_type": "code",
   "execution_count": 20,
   "id": "573e8a98-da41-464d-825a-fc40273a89b6",
   "metadata": {},
   "outputs": [
    {
     "data": {
      "text/plain": [
       "' World'"
      ]
     },
     "execution_count": 20,
     "metadata": {},
     "output_type": "execute_result"
    }
   ],
   "source": [
    "#Q10\n",
    "a=\"Hello, World!\"\n",
    "a[6:12]"
   ]
  },
  {
   "cell_type": "code",
   "execution_count": 21,
   "id": "06960688-e48a-46e0-8e0a-ca548804f9b0",
   "metadata": {},
   "outputs": [
    {
     "name": "stdout",
     "output_type": "stream",
     "text": [
      "False\n"
     ]
    }
   ],
   "source": [
    "#Q11\n",
    "is_student= False\n",
    "print(is_student)"
   ]
  },
  {
   "cell_type": "code",
   "execution_count": null,
   "id": "2205d826-b0aa-45b5-a9f0-e329d40bcfa3",
   "metadata": {},
   "outputs": [],
   "source": []
  }
 ],
 "metadata": {
  "kernelspec": {
   "display_name": "Python 3 (ipykernel)",
   "language": "python",
   "name": "python3"
  },
  "language_info": {
   "codemirror_mode": {
    "name": "ipython",
    "version": 3
   },
   "file_extension": ".py",
   "mimetype": "text/x-python",
   "name": "python",
   "nbconvert_exporter": "python",
   "pygments_lexer": "ipython3",
   "version": "3.10.8"
  }
 },
 "nbformat": 4,
 "nbformat_minor": 5
}
